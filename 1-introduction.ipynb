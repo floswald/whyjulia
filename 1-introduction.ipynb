{
 "cells": [
  {
   "cell_type": "markdown",
   "metadata": {},
   "source": [
    "# Julia: the future of scientific computing\n",
    "\n",
    "John Gibson, University of New Hampshire\n",
    "\n",
    "Integrated Applied Mathematics  \n",
    "Department of Mathematics and Statistics"
   ]
  },
  {
   "cell_type": "markdown",
   "metadata": {},
   "source": [
    "## Julia is...\n",
    "\n",
    "  * a new open-source scientific programming language\n",
    "  * modern, dynamic, high-level, general-purpose like Python\n",
    "  * aimed squarely at numerics, like Matlab\n",
    "  * metaprogramming power of LISP\n",
    "  * fast as C, Fortran\n",
    "  \n",
    "## Julia is good for...\n",
    "\n",
    "  * quick & dirty interactive calculations and plotting, like Matlab\n",
    "  * high-performance computation, like C and Fortran\n",
    "\n",
    "## *Julia solves the two-language problem, makes new things possible*"
   ]
  },
  {
   "cell_type": "markdown",
   "metadata": {},
   "source": [
    "## Julia development\n",
    "\n",
    "  * julia-0.1 2012....julia-0.6 2017....julia-1.0 2018?\n",
    "  * open-source MIT license, hosted on Github\n",
    "  * core development: MIT, Julia Computing LLC\n",
    "  * funding: Moore Foundation, NumFocus, Intel, Microsoft, Wall St. firms\n",
    "  * $\\sim500$ contributors to core language and base libraries\n",
    "  * $\\sim1000$ official add-on packages "
   ]
  }
 ],
 "metadata": {
  "kernelspec": {
   "display_name": "Julia 0.5.0",
   "language": "julia",
   "name": "julia-0.5"
  },
  "language_info": {
   "file_extension": ".jl",
   "mimetype": "application/julia",
   "name": "julia",
   "version": "0.5.0"
  }
 },
 "nbformat": 4,
 "nbformat_minor": 2
}
