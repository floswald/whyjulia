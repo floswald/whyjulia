{
 "cells": [
  {
   "cell_type": "markdown",
   "metadata": {},
   "source": [
    "# Conclusions\n",
    "\n",
    "### Julia \n",
    "  * well-designed open-source scientific programming language \n",
    "  * great numeric types, libraries\n",
    "  * great general-purpose types, libraries\n",
    "  * modern, dynamic, flexible\n",
    "  * roughly as fast as compiled C\n",
    "  * easy learning curve\n",
    "  * dynamism and metaprogramming make new things possible\n",
    "  * **solves the two-language problem:** from tinkering to HPC\n",
    "\n",
    "\n",
    "### Didn't cover\n",
    "  * [parallel computing](http://docs.julialang.org/en/release-0.5/manual/parallel-computing/)\n",
    "  * [general-purpose libraries:](http://docs.julialang.org/en/release-0.5/#stdlib) Strings, Sets, Arrays, Tuples, Dicts, Time, Streams, Network, Tasks,...\n",
    "  * [documentation](http://docs.julialang.org/en/release-0.5/)\n",
    "  * [installation](http://julialang.org/downloads/)\n",
    "  * required libraries: LLVM, OpenBLAS, LAPACK, ARPACK, FFTW, GNU arb-size int & float, ...\n",
    "  * [calling C and Fortran](http://docs.julialang.org/en/stable/manual/calling-c-and-fortran-code/)\n",
    "  * [modules](ocs.julialang.org/en/stable/manual/modules/) and [package manager](http://docs.julialang.org/en/stable/manual/packages/)\n",
    "  * [documentation](http://docs.julialang.org/en/stable/)\n",
    "  * [code hosting on git](https://github.com/JuliaLang/juliasource)\n",
    "  * running Julia on [JuliaBox](https://juliabox.com/) or from command-line\n",
    " \n",
    "### Acknowledgements\n",
    "  * [David Sanders](http://sistemas.fciencias.unam.mx/~dsanders/), Physics, Universidad Nacional Autónoma de México \n",
    "  * [Andreas Noack](http://andreasnoack.github.io/academiccv.html), CS and AI Lab, MIT\n",
    "  * The Julia team\n",
    "  * NSF grant #1554149"
   ]
  },
  {
   "cell_type": "code",
   "execution_count": null,
   "metadata": {
    "collapsed": true
   },
   "outputs": [],
   "source": []
  }
 ],
 "metadata": {
  "kernelspec": {
   "display_name": "Julia 0.5.0",
   "language": "julia",
   "name": "julia-0.5"
  },
  "language_info": {
   "file_extension": ".jl",
   "mimetype": "application/julia",
   "name": "julia",
   "version": "0.5.0"
  }
 },
 "nbformat": 4,
 "nbformat_minor": 2
}
