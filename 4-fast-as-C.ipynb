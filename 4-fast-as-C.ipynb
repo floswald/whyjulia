{
 "cells": [
  {
   "cell_type": "markdown",
   "metadata": {},
   "source": [
    "# Julia is roughly as fast as C\n",
    "\n",
    "due to\n",
    "  1. just-in-time compilation\n",
    "  2. being smart about types\n"
   ]
  },
  {
   "cell_type": "markdown",
   "metadata": {},
   "source": [
    "## Define a simple function and run it twice"
   ]
  },
  {
   "cell_type": "code",
   "execution_count": 1,
   "metadata": {
    "collapsed": false
   },
   "outputs": [
    {
     "data": {
      "text/plain": [
       "f (generic function with 1 method)"
      ]
     },
     "execution_count": 1,
     "metadata": {},
     "output_type": "execute_result"
    }
   ],
   "source": [
    "f(x) = x^3 - 2"
   ]
  },
  {
   "cell_type": "code",
   "execution_count": 2,
   "metadata": {
    "collapsed": false
   },
   "outputs": [
    {
     "name": "stdout",
     "output_type": "stream",
     "text": [
      "  0.004567 seconds (1.20 k allocations: 74.862 KiB)\n",
      "  0.000002 seconds (5 allocations: 176 bytes)\n"
     ]
    }
   ],
   "source": [
    "@time f(0.3);\n",
    "@time f(0.4);"
   ]
  },
  {
   "cell_type": "code",
   "execution_count": 3,
   "metadata": {
    "collapsed": false
   },
   "outputs": [
    {
     "name": "stdout",
     "output_type": "stream",
     "text": [
      "  0.000002 seconds (5 allocations: 176 bytes)\n"
     ]
    },
    {
     "data": {
      "text/plain": [
       "-1.973"
      ]
     },
     "execution_count": 3,
     "metadata": {},
     "output_type": "execute_result"
    }
   ],
   "source": [
    "@time f(0.3)"
   ]
  },
  {
   "cell_type": "markdown",
   "metadata": {},
   "source": [
    "** The second evaluation is 4000 times faster than the first! Why? Just-in-time compilation.**"
   ]
  },
  {
   "cell_type": "code",
   "execution_count": 4,
   "metadata": {
    "collapsed": false
   },
   "outputs": [
    {
     "data": {
      "text/plain": [
       "CodeInfo(:(begin \n",
       "        nothing\n",
       "        return (Base.literal_pow)(Main.^, x, (Core.apply_type)(Base.Val, 3)) - 2\n",
       "    end))"
      ]
     },
     "execution_count": 4,
     "metadata": {},
     "output_type": "execute_result"
    }
   ],
   "source": [
    "@code_lowered(f(7.0))   # show f(x) in Julia's abstract syntax tree"
   ]
  },
  {
   "cell_type": "code",
   "execution_count": 5,
   "metadata": {
    "collapsed": false
   },
   "outputs": [
    {
     "name": "stdout",
     "output_type": "stream",
     "text": [
      "\n",
      "define double @julia_f_60971(double) #0 !dbg !5 {\n",
      "top:\n",
      "  %1 = fmul double %0, %0\n",
      "  %2 = fmul double %1, %0\n",
      "  %3 = fadd double %2, -2.000000e+00\n",
      "  ret double %3\n",
      "}\n"
     ]
    }
   ],
   "source": [
    "@code_llvm f(7.0)       # show f(x) in LLVM (compiler) intermediate language"
   ]
  },
  {
   "cell_type": "code",
   "execution_count": 6,
   "metadata": {
    "collapsed": false
   },
   "outputs": [
    {
     "name": "stdout",
     "output_type": "stream",
     "text": [
      "\t.text\n",
      "Filename: In[1]\n",
      "\tpushq\t%rbp\n",
      "\tmovq\t%rsp, %rbp\n",
      "Source line: 1\n",
      "\tmovapd\t%xmm0, %xmm1\n",
      "\tmulsd\t%xmm1, %xmm1\n",
      "\tmulsd\t%xmm0, %xmm1\n",
      "\tmovabsq\t$139680790852296, %rax  # imm = 0x7F09F7EBB2C8\n",
      "\taddsd\t(%rax), %xmm1\n",
      "\tmovapd\t%xmm1, %xmm0\n",
      "\tpopq\t%rbp\n",
      "\tretq\n",
      "\tnopw\t%cs:(%rax,%rax)\n"
     ]
    }
   ],
   "source": [
    "@code_native f(7.0)     # show f(x) in Intel IA-64 assembly language"
   ]
  },
  {
   "cell_type": "markdown",
   "metadata": {},
   "source": [
    "## Compare intermediate code for f(x) on floats and ints"
   ]
  },
  {
   "cell_type": "code",
   "execution_count": null,
   "metadata": {
    "collapsed": false
   },
   "outputs": [],
   "source": [
    "@code_llvm(f(7.0))"
   ]
  },
  {
   "cell_type": "code",
   "execution_count": null,
   "metadata": {
    "collapsed": false
   },
   "outputs": [],
   "source": [
    "@code_llvm(f(7))"
   ]
  },
  {
   "cell_type": "markdown",
   "metadata": {},
   "source": [
    "#### type inference: figuring out the types of untyped variables, crucial for just-in-time compilation"
   ]
  },
  {
   "cell_type": "code",
   "execution_count": null,
   "metadata": {
    "collapsed": false
   },
   "outputs": [],
   "source": [
    "sqrt(-1)"
   ]
  },
  {
   "cell_type": "markdown",
   "metadata": {},
   "source": [
    "## Redefine f(x), iterate it, and time for comparison to C"
   ]
  },
  {
   "cell_type": "code",
   "execution_count": null,
   "metadata": {
    "collapsed": false
   },
   "outputs": [],
   "source": [
    "# define function that, given an f, returns iterated function f^N\n",
    "function iterator(f, N)\n",
    "    \n",
    "    # construct f^N\n",
    "    function fN(x)\n",
    "      for i ∈ 1:N             \n",
    "        x = f(x)\n",
    "      end\n",
    "      x\n",
    "    end    \n",
    "    \n",
    "    fN     # return f^N\n",
    "end\n",
    "\n",
    "# define logistic map function\n",
    "f(x) = 4*x*(1-x)\n",
    "\n",
    "\n",
    "# use iterator function to constuct millionth iterate of logistic map\n",
    "fᴺ  = iterator(f, 1000000)  "
   ]
  },
  {
   "cell_type": "code",
   "execution_count": null,
   "metadata": {
    "collapsed": false
   },
   "outputs": [],
   "source": [
    "@time x = fᴺ(0.34);\n",
    "@time x = fᴺ(0.67);"
   ]
  },
  {
   "cell_type": "code",
   "execution_count": null,
   "metadata": {
    "collapsed": false
   },
   "outputs": [],
   "source": [
    "@show x;"
   ]
  },
  {
   "cell_type": "markdown",
   "metadata": {},
   "source": [
    "## Timing of equivalent C++ code\n",
    "\n",
    "note: starting semicolon tells Julia to execute Unix shell code"
   ]
  },
  {
   "cell_type": "code",
   "execution_count": null,
   "metadata": {
    "collapsed": false
   },
   "outputs": [],
   "source": [
    "; pwd"
   ]
  },
  {
   "cell_type": "code",
   "execution_count": null,
   "metadata": {
    "collapsed": false,
    "scrolled": true
   },
   "outputs": [],
   "source": [
    "; cat fmillion.cpp"
   ]
  },
  {
   "cell_type": "code",
   "execution_count": null,
   "metadata": {
    "collapsed": false
   },
   "outputs": [],
   "source": [
    "; g++ -O3 -o fmillion fmillion.cpp"
   ]
  },
  {
   "cell_type": "markdown",
   "metadata": {},
   "source": [
    "### Execution time for C++"
   ]
  },
  {
   "cell_type": "code",
   "execution_count": null,
   "metadata": {
    "collapsed": false,
    "scrolled": true
   },
   "outputs": [],
   "source": [
    "; fmillion 0.67"
   ]
  },
  {
   "cell_type": "markdown",
   "metadata": {},
   "source": [
    "### Execution time for Julia"
   ]
  },
  {
   "cell_type": "code",
   "execution_count": null,
   "metadata": {
    "collapsed": false
   },
   "outputs": [],
   "source": [
    "print(\"t=\")\n",
    "@time x = fᴺ(0.67);\n",
    "@show x;"
   ]
  },
  {
   "cell_type": "markdown",
   "metadata": {},
   "source": [
    "Speeds are comparable. Sometimes Julia is faster, sometimes C."
   ]
  },
  {
   "cell_type": "markdown",
   "metadata": {},
   "source": [
    "## Julia benchmarks versus other languages\n",
    "\n",
    "\n",
    "![Julia benchmarks](http://channelflow.org/juliabenchmarks.png  \" Julia benchmarks\")\n",
    "\n",
    "http://julialang.org/benchmarks\n"
   ]
  },
  {
   "cell_type": "code",
   "execution_count": null,
   "metadata": {
    "collapsed": true
   },
   "outputs": [],
   "source": []
  }
 ],
 "metadata": {
  "kernelspec": {
   "display_name": "Julia 0.6.0",
   "language": "julia",
   "name": "julia-0.6"
  },
  "language_info": {
   "file_extension": ".jl",
   "mimetype": "application/julia",
   "name": "julia",
   "version": "0.6.0"
  }
 },
 "nbformat": 4,
 "nbformat_minor": 2
}
